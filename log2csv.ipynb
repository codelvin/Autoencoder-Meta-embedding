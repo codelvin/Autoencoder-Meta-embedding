{
 "cells": [
  {
   "cell_type": "code",
   "execution_count": 32,
   "metadata": {},
   "outputs": [],
   "source": [
    "import pandas as pd\n",
    "import json\n",
    "import os"
   ]
  },
  {
   "cell_type": "code",
   "execution_count": 33,
   "metadata": {},
   "outputs": [],
   "source": [
    "def stringToDict(f_path):\n",
    "    with open(f_path, 'r') as f:\n",
    "        line = f.readlines()[-1]\n",
    "        json_acceptable_string = line.replace(\"'\", \"\\\"\")\n",
    "        d = json.loads(json_acceptable_string)\n",
    "    return d"
   ]
  },
  {
   "cell_type": "code",
   "execution_count": 34,
   "metadata": {},
   "outputs": [],
   "source": [
    "def main():\n",
    "    df = pd.DataFrame(columns = ['embedding_name', 'score', 'men_natural_full','mturk-287', 'mturk-771','wordsim353','stanford_rareword','mc-30',\\\n",
    "                                 'simlex-999','simverb-3500','verb-143'])\n",
    "    df = pd.DataFrame();\n",
    "    for root,dirs,files in os.walk('./result_logs'):\n",
    "        for file in files:\n",
    "            name = file[:-4]\n",
    "            f_path = root+'/' + file\n",
    "            d = stringToDict(f_path)\n",
    "            d['embedding_name'] = name\n",
    "            df = df.append(d, ignore_index = True)\n",
    "\n",
    "    df.to_csv('results.csv', sep=',', encoding='utf-8')\n",
    "        "
   ]
  },
  {
   "cell_type": "code",
   "execution_count": 35,
   "metadata": {},
   "outputs": [],
   "source": [
    "if __name__ == '__main__':\n",
    "    main()"
   ]
  },
  {
   "cell_type": "code",
   "execution_count": null,
   "metadata": {},
   "outputs": [],
   "source": []
  }
 ],
 "metadata": {
  "kernelspec": {
   "display_name": "Python 3 (Intel, 2018 update 2)",
   "language": "python",
   "name": "c009-intel_distribution_of_python_3_2018u2"
  },
  "language_info": {
   "codemirror_mode": {
    "name": "ipython",
    "version": 3
   },
   "file_extension": ".py",
   "mimetype": "text/x-python",
   "name": "python",
   "nbconvert_exporter": "python",
   "pygments_lexer": "ipython3",
   "version": "3.6.3"
  }
 },
 "nbformat": 4,
 "nbformat_minor": 2
}
