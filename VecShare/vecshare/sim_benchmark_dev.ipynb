{
 "cells": [
  {
   "cell_type": "code",
   "execution_count": 2,
   "metadata": {},
   "outputs": [],
   "source": [
    "import numpy as np\n",
    "import pandas as pd\n",
    "import csv, os, random, sys\n",
    "import scipy.stats\n",
    "\n",
    "filename = '/home/u15410/yizhen/emsemble/AutoencodedMetaEmbedding/meta_embeddings/glove.42d.300.txt.csv'\n",
    "tes = pd.read_csv(filename,quoting=3,  error_bad_lines=False)"
   ]
  },
  {
   "cell_type": "code",
   "execution_count": 18,
   "metadata": {},
   "outputs": [],
   "source": [
    "def _eval_sim(testfile,inp_emb):\n",
    "    test, emb = np.empty(0), np.empty(0)\n",
    "    testdrop = np.empty(0)\n",
    "    spearman_corr = 0\n",
    "    mean_vec = np.mean(np.asarray(list(inp_emb.values()) ), axis = 0)\n",
    "\n",
    "    with open(testfile, 'r') as comp_test:\n",
    "        tests_csv = csv.reader(comp_test)\n",
    "\n",
    "        for line in tests_csv:\n",
    "            try:\n",
    "                word1, word2 = line[0], line[1]\n",
    "            except:\n",
    "                print (line)\n",
    "            if word1 in inp_emb and word2 in inp_emb:\n",
    "                wordvec_1 = inp_emb[word1]\n",
    "                wordvec_2 = inp_emb[word2]\n",
    "            else:\n",
    "                continue\n",
    "#             wordvec_1 = inp_emb[word1] if word1 in inp_emb else mean_vec\n",
    "#             wordvec_2 = inp_emb[word2] if word2 in inp_emb else mean_vec\n",
    "            try:\n",
    "                test = np.append(test, float(line[2]))\n",
    "            except:\n",
    "                print(line)\n",
    "            if np.any(wordvec_1) and np.any(wordvec_2):\n",
    "                emb = np.append(emb, np.dot(wordvec_1, wordvec_2))\n",
    "            else:\n",
    "                emb = np.append(emb, 0)\n",
    "    spearman_corr = scipy.stats.spearmanr(test, emb)[0]\n",
    "        \n",
    "    return spearman_corr"
   ]
  },
  {
   "cell_type": "code",
   "execution_count": 7,
   "metadata": {},
   "outputs": [],
   "source": [
    "inp_emb = {}\n",
    "for wordvec in tes.iterrows():\n",
    "    word, vec = wordvec[1][0], wordvec[1][1:].tolist()\n",
    "    vec = np.fromiter(map(float, vec[1:]), dtype = np.float32)\n",
    "    norm = np.linalg.norm(vec)\n",
    "    inp_emb[word] = vec/norm if (norm != 0) else [vec]\n"
   ]
  },
  {
   "cell_type": "code",
   "execution_count": null,
   "metadata": {},
   "outputs": [],
   "source": []
  },
  {
   "cell_type": "code",
   "execution_count": 21,
   "metadata": {},
   "outputs": [
    {
     "name": "stdout",
     "output_type": "stream",
     "text": [
      "/home/u15410/yizhen/emsemble/AutoencodedMetaEmbedding/VecShare/vecshare/Test_Input/mturk-287.csv\n",
      "/home/u15410/yizhen/emsemble/AutoencodedMetaEmbedding/VecShare/vecshare/Test_Input/verb-143.csv\n",
      "/home/u15410/yizhen/emsemble/AutoencodedMetaEmbedding/VecShare/vecshare/Test_Input/wordsim353.csv\n",
      "/home/u15410/yizhen/emsemble/AutoencodedMetaEmbedding/VecShare/vecshare/Test_Input/EN-MC-30.txt\n",
      "/home/u15410/yizhen/emsemble/AutoencodedMetaEmbedding/VecShare/vecshare/Test_Input/mc-30.csv\n",
      "/home/u15410/yizhen/emsemble/AutoencodedMetaEmbedding/VecShare/vecshare/Test_Input/MEN_natural_full.csv\n",
      "/home/u15410/yizhen/emsemble/AutoencodedMetaEmbedding/VecShare/vecshare/Test_Input/MTURK-771.csv\n",
      "/home/u15410/yizhen/emsemble/AutoencodedMetaEmbedding/VecShare/vecshare/Test_Input/SimLex-999.csv\n",
      "/home/u15410/yizhen/emsemble/AutoencodedMetaEmbedding/VecShare/vecshare/Test_Input/SimVerb-3500.csv\n",
      "/home/u15410/yizhen/emsemble/AutoencodedMetaEmbedding/VecShare/vecshare/Test_Input/stanford_rareword.csv\n"
     ]
    }
   ],
   "source": [
    "score_dict = {}\n",
    "score_dict['score'] = 0\n",
    "for root,dirs,files in os.walk('/home/u15410/yizhen/emsemble/AutoencodedMetaEmbedding/VecShare/vecshare/Test_Input'):\n",
    "    files = [testfile for testfile in files if testfile[0]!='.']\n",
    "    for testfile in files:\n",
    "        f_path = root+'/'+testfile\n",
    "        print (f_path)\n",
    "#             score_dict[testfile[:-4].strip().lower().replace(\" \", \"_\").replace(\"-\", \"_\")] = _eval_sim(f_path, inp_emb)\n",
    "        score_dict[testfile[:-4].strip().lower()] = _eval_sim(f_path, inp_emb)\n",
    "        if  testfile != 'mc-30.csv':\n",
    "            score_dict['score'] += _eval_sim(f_path, inp_emb)/(len(files)-1)"
   ]
  },
  {
   "cell_type": "code",
   "execution_count": 22,
   "metadata": {},
   "outputs": [
    {
     "name": "stdout",
     "output_type": "stream",
     "text": [
      "{'score': 0.5329003006906, 'mturk-287': 0.6440623687848714, 'verb-143': 0.3255615755411917, 'wordsim353': 0.6451454541425574, 'en-mc-30': 0.777345097277711, 'mc-30': 0.777345097277711, 'men_natural_full': 0.7411636189313144, 'mturk-771': 0.6790015729258259, 'simlex-999': 0.3738278855308309, 'simverb-3500': 0.22621189208829712, 'stanford_rareword': 0.38378324099279965}\n"
     ]
    }
   ],
   "source": [
    "print (score_dict)"
   ]
  },
  {
   "cell_type": "code",
   "execution_count": 27,
   "metadata": {},
   "outputs": [
    {
     "data": {
      "text/html": [
       "<div>\n",
       "<style scoped>\n",
       "    .dataframe tbody tr th:only-of-type {\n",
       "        vertical-align: middle;\n",
       "    }\n",
       "\n",
       "    .dataframe tbody tr th {\n",
       "        vertical-align: top;\n",
       "    }\n",
       "\n",
       "    .dataframe thead th {\n",
       "        text-align: right;\n",
       "    }\n",
       "</style>\n",
       "<table border=\"1\" class=\"dataframe\">\n",
       "  <thead>\n",
       "    <tr style=\"text-align: right;\">\n",
       "      <th></th>\n",
       "      <th>0</th>\n",
       "    </tr>\n",
       "  </thead>\n",
       "  <tbody>\n",
       "    <tr>\n",
       "      <th>en-mc-30</th>\n",
       "      <td>0.777345</td>\n",
       "    </tr>\n",
       "    <tr>\n",
       "      <th>mc-30</th>\n",
       "      <td>0.777345</td>\n",
       "    </tr>\n",
       "    <tr>\n",
       "      <th>men_natural_full</th>\n",
       "      <td>0.741164</td>\n",
       "    </tr>\n",
       "    <tr>\n",
       "      <th>mturk-287</th>\n",
       "      <td>0.644062</td>\n",
       "    </tr>\n",
       "    <tr>\n",
       "      <th>mturk-771</th>\n",
       "      <td>0.679002</td>\n",
       "    </tr>\n",
       "    <tr>\n",
       "      <th>score</th>\n",
       "      <td>0.532900</td>\n",
       "    </tr>\n",
       "    <tr>\n",
       "      <th>simlex-999</th>\n",
       "      <td>0.373828</td>\n",
       "    </tr>\n",
       "    <tr>\n",
       "      <th>simverb-3500</th>\n",
       "      <td>0.226212</td>\n",
       "    </tr>\n",
       "    <tr>\n",
       "      <th>stanford_rareword</th>\n",
       "      <td>0.383783</td>\n",
       "    </tr>\n",
       "    <tr>\n",
       "      <th>verb-143</th>\n",
       "      <td>0.325562</td>\n",
       "    </tr>\n",
       "    <tr>\n",
       "      <th>wordsim353</th>\n",
       "      <td>0.645145</td>\n",
       "    </tr>\n",
       "  </tbody>\n",
       "</table>\n",
       "</div>"
      ],
      "text/plain": [
       "                          0\n",
       "en-mc-30           0.777345\n",
       "mc-30              0.777345\n",
       "men_natural_full   0.741164\n",
       "mturk-287          0.644062\n",
       "mturk-771          0.679002\n",
       "score              0.532900\n",
       "simlex-999         0.373828\n",
       "simverb-3500       0.226212\n",
       "stanford_rareword  0.383783\n",
       "verb-143           0.325562\n",
       "wordsim353         0.645145"
      ]
     },
     "execution_count": 27,
     "metadata": {},
     "output_type": "execute_result"
    }
   ],
   "source": [
    "pd.Series(score_dict).to_frame()"
   ]
  },
  {
   "cell_type": "code",
   "execution_count": null,
   "metadata": {},
   "outputs": [],
   "source": []
  }
 ],
 "metadata": {
  "kernelspec": {
   "display_name": "Python 3 (Intel, 2018 update 2)",
   "language": "python",
   "name": "c009-intel_distribution_of_python_3_2018u2"
  },
  "language_info": {
   "codemirror_mode": {
    "name": "ipython",
    "version": 3
   },
   "file_extension": ".py",
   "mimetype": "text/x-python",
   "name": "python",
   "nbconvert_exporter": "python",
   "pygments_lexer": "ipython3",
   "version": "3.6.3"
  }
 },
 "nbformat": 4,
 "nbformat_minor": 2
}
